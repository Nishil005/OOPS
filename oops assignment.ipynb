{
 "cells": [
  {
   "cell_type": "markdown",
   "id": "50b50457-1c83-479a-b972-d0c9f0f64801",
   "metadata": {},
   "source": [
    "Q1, Create a vehicle class with an init method having instance variables as name_of_vehicle, max_speed\n",
    "and average_of_vehicle."
   ]
  },
  {
   "cell_type": "code",
   "execution_count": 42,
   "id": "fc0b0e74-412a-4d8d-989d-15f122352b04",
   "metadata": {},
   "outputs": [],
   "source": [
    "class cars:\n",
    "    def __init__(self, name_of_vehicle , max_speed , average_of_vehicle ):\n",
    "        self.name_of_vehicle = name_of_vehicle\n",
    "        self.max_speed = max_speed\n",
    "        self.average_of_vehicle = average_of_vehicle\n",
    "    "
   ]
  },
  {
   "cell_type": "code",
   "execution_count": 45,
   "id": "5e5caeaa-503f-4260-9fea-1fb7b246a3ca",
   "metadata": {},
   "outputs": [],
   "source": [
    "c = cars(\"Audi\", 200, 120 )"
   ]
  },
  {
   "cell_type": "code",
   "execution_count": 46,
   "id": "ee932f72-58f3-46fb-a42f-6331390667fa",
   "metadata": {},
   "outputs": [
    {
     "data": {
      "text/plain": [
       "200"
      ]
     },
     "execution_count": 46,
     "metadata": {},
     "output_type": "execute_result"
    }
   ],
   "source": [
    "c.max_speed"
   ]
  },
  {
   "cell_type": "code",
   "execution_count": 10,
   "id": "05ad9b5a-0d73-4fc6-a43e-11368b228b0f",
   "metadata": {},
   "outputs": [
    {
     "data": {
      "text/plain": [
       "120"
      ]
     },
     "execution_count": 10,
     "metadata": {},
     "output_type": "execute_result"
    }
   ],
   "source": [
    "c.average_of_vehicle"
   ]
  },
  {
   "cell_type": "code",
   "execution_count": 11,
   "id": "be9e2ea8-fa07-4b61-85a0-f70e363309f0",
   "metadata": {},
   "outputs": [
    {
     "data": {
      "text/plain": [
       "'Audi'"
      ]
     },
     "execution_count": 11,
     "metadata": {},
     "output_type": "execute_result"
    }
   ],
   "source": [
    "c.name_of_vehicle"
   ]
  },
  {
   "cell_type": "markdown",
   "id": "f82bebcd-c2f8-4333-be2a-50140e1c8b07",
   "metadata": {},
   "source": [
    "Q2. Create a child class car from the vehicle class created in Que 1, which will inherit the vehicle class.\n",
    "Create a method named seating_capacity which takes capacity as an argument and returns the name of\n",
    "the vehicle and its seating capacity."
   ]
  },
  {
   "cell_type": "code",
   "execution_count": 48,
   "id": "ac4d6905-49bb-4f4f-8740-e3263c3a1b1d",
   "metadata": {},
   "outputs": [
    {
     "name": "stdout",
     "output_type": "stream",
     "text": [
      "Vehicle name: Toyota Camry\n",
      "Toyota Camry - Seating Capacity: 5\n"
     ]
    }
   ],
   "source": [
    "class Vehicle:\n",
    "    def __init__(self, name):\n",
    "        self.name = name\n",
    "    def display_name(self):\n",
    "        print(f\"Vehicle name: {self.name}\")\n",
    "class Car(Vehicle):\n",
    "    def seating_capacity(self, capacity):\n",
    "        return f\"{self.name} - Seating Capacity: {capacity}\"\n",
    "my_car = Car(\"Toyota Camry\")\n",
    "my_car.display_name()\n",
    "print(my_car.seating_capacity(5))"
   ]
  },
  {
   "cell_type": "markdown",
   "id": "42d07898-d40b-439a-b86d-a0c6bea9d492",
   "metadata": {},
   "source": [
    "Q3. What is multiple inheritance? Write a python code to demonstrate multiple inheritance.\n",
    "Ans:\n",
    "Multiple inheritance is a feature in object-oriented programming languages that allows a class to inherit attributes and methods from more than one parent class. In multiple inheritance, a child class can inherit from multiple base classes, which means it can acquire properties and behaviors from all of its parent classes."
   ]
  },
  {
   "cell_type": "code",
   "execution_count": 50,
   "id": "a7797e22-e86a-4dd7-ab59-03a3c4c3309a",
   "metadata": {},
   "outputs": [
    {
     "name": "stdout",
     "output_type": "stream",
     "text": [
      "Vehicle name: Toyota Camry\n",
      "Engine started.\n",
      "Car color: Blue\n"
     ]
    }
   ],
   "source": [
    "class Vehicle1:\n",
    "    def __init__(self, name):\n",
    "        self.name = name\n",
    "\n",
    "    def display_name(self):\n",
    "        print(f\"Vehicle name: {self.name}\")\n",
    "\n",
    "\n",
    "class Engine1:\n",
    "    def start_engine(self):\n",
    "        print(\"Engine started.\")\n",
    "\n",
    "\n",
    "class Car(Vehicle, Engine):\n",
    "    def __init__(self, name, color):\n",
    "        Vehicle.__init__(self, name)\n",
    "        self.color = color\n",
    "\n",
    "    def display_color(self):\n",
    "        print(f\"Car color: {self.color}\")\n",
    "\n",
    "\n",
    "my_car = Car(\"Toyota Camry\", \"Blue\")\n",
    "\n",
    "my_car.display_name()\n",
    "\n",
    "my_car.start_engine()\n",
    "\n",
    "my_car.display_color()\n"
   ]
  },
  {
   "cell_type": "markdown",
   "id": "c80bda77-a2b5-47ab-85bd-62b912e55d17",
   "metadata": {},
   "source": [
    "Q4. What are getter and setter in python? Create a class and create a getter and a setter method in this\n",
    "class.\n",
    "Ans:\n",
    "In Python, getter and setter methods are used to control access to the attributes of a class. They provide a way to retrieve (get) and modify (set) the values of class attributes, allowing for encapsulation and ensuring data integrity.\n",
    "\n",
    "A getter method is used to retrieve the value of a private attribute, while a setter method is used to set or modify the value of a private attribute. By using getters and setters, you can enforce rules or perform additional actions whenever an attribute is accessed or modified.\n",
    "\n",
    "Here's an example of a class called \"Person\" that has a private attribute called \"age\" along with getter and setter methods:"
   ]
  },
  {
   "cell_type": "code",
   "execution_count": 51,
   "id": "6568defe-4ea3-41a3-b5d4-bd8a0618be16",
   "metadata": {},
   "outputs": [
    {
     "name": "stdout",
     "output_type": "stream",
     "text": [
      "John\n",
      "25\n",
      "Michael\n",
      "30\n"
     ]
    }
   ],
   "source": [
    "class Person:\n",
    "    def __init__(self, name, age):\n",
    "        self._name = name\n",
    "        self._age = age\n",
    "\n",
    "    def get_age(self):\n",
    "        return self._age\n",
    "\n",
    "    def set_age(self, age):\n",
    "        if age >= 0:\n",
    "            self._age = age\n",
    "        else:\n",
    "            print(\"Invalid age value.\")\n",
    "\n",
    "    def get_name(self):\n",
    "        return self._name\n",
    "\n",
    "    def set_name(self, name):\n",
    "        self._name = name\n",
    "\n",
    "\n",
    "# Creating an instance of the Person class\n",
    "person = Person(\"John\", 25)\n",
    "\n",
    "# Accessing the attributes using getter methods\n",
    "print(person.get_name())\n",
    "print(person.get_age())\n",
    "\n",
    "# Modifying the attributes using setter methods\n",
    "person.set_name(\"Michael\")\n",
    "person.set_age(30)\n",
    "\n",
    "# Accessing the modified attributes\n",
    "print(person.get_name())\n",
    "print(person.get_age())\n"
   ]
  },
  {
   "cell_type": "markdown",
   "id": "6aec3962-c223-47e4-930a-97961ffe2f1d",
   "metadata": {},
   "source": [
    "Q5.What is method overriding in python? Write a python code to demonstrate method overriding.\n",
    "Ans\n",
    "Method overriding is a concept in object-oriented programming where a subclass provides its own implementation of a method that is already defined in its parent class. When a method is overridden, the version of the method in the subclass is called instead of the version in the parent class when the method is invoked on an object of the subclass."
   ]
  },
  {
   "cell_type": "code",
   "execution_count": 52,
   "id": "bf7c85e2-a831-4d0a-b012-74f5452fda60",
   "metadata": {},
   "outputs": [
    {
     "name": "stdout",
     "output_type": "stream",
     "text": [
      "Car started.\n"
     ]
    }
   ],
   "source": [
    "class Vehicle:\n",
    "    def start(self):\n",
    "        print(\"Vehicle started.\")\n",
    "\n",
    "\n",
    "class Car(Vehicle):\n",
    "    def start(self):\n",
    "        print(\"Car started.\")\n",
    "\n",
    "\n",
    "# Creating an instance of the Car class\n",
    "my_car = Car()\n",
    "\n",
    "# Invoking the start() method\n",
    "my_car.start()"
   ]
  },
  {
   "cell_type": "code",
   "execution_count": null,
   "id": "569122f3-f5d9-449f-a401-09f7db507840",
   "metadata": {},
   "outputs": [],
   "source": []
  }
 ],
 "metadata": {
  "kernelspec": {
   "display_name": "Python 3 (ipykernel)",
   "language": "python",
   "name": "python3"
  },
  "language_info": {
   "codemirror_mode": {
    "name": "ipython",
    "version": 3
   },
   "file_extension": ".py",
   "mimetype": "text/x-python",
   "name": "python",
   "nbconvert_exporter": "python",
   "pygments_lexer": "ipython3",
   "version": "3.10.8"
  }
 },
 "nbformat": 4,
 "nbformat_minor": 5
}
